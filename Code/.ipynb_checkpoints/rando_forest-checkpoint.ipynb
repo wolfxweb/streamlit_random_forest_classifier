{
 "cells": [
  {
   "cell_type": "code",
   "execution_count": 10,
   "id": "7d97333f",
   "metadata": {},
   "outputs": [],
   "source": [
    "# Intalações realizada no anbiente virtual\n",
    "#pip install streamlit\n",
    "#pip install scikit-learn\n",
    "\n",
    "#Comando para criar anbiente virtual\n",
    "#python -m venv NOME_DO_ANBIENTE\n",
    "#Comando para executar MAC e linux\n",
    "#source NOME_DO_ANBIENTE/bin/activate"
   ]
  },
  {
   "cell_type": "code",
   "execution_count": 11,
   "id": "1dde4fb6-a93b-4490-8117-9984cd9ff17b",
   "metadata": {
    "tags": []
   },
   "outputs": [],
   "source": [
    "#importações\n",
    "import streamlit as st \n",
    "import pandas as pd\n",
    "from sklearn.datasets import load_iris\n",
    "from sklearn.ensemble import RandomForestClassifier\n",
    "\n"
   ]
  },
  {
   "cell_type": "code",
   "execution_count": 12,
   "id": "a76a3f0f-dbd9-4fdb-907b-b09a6ac61e7e",
   "metadata": {
    "tags": []
   },
   "outputs": [],
   "source": [
    "#importando a base de dados iris\n",
    "df = load_iris()\n",
    "# Atributos do conjunto de dados\n",
    "X = df.data  # Características\n",
    "y = df.target  # Classes "
   ]
  },
  {
   "cell_type": "code",
   "execution_count": 13,
   "id": "3b0846e5",
   "metadata": {},
   "outputs": [
    {
     "name": "stdout",
     "output_type": "stream",
     "text": [
      "Primeiros 5 registros do conjunto de dados Iris:\n",
      "Registro 1 : [5.1 3.5 1.4 0.2] Classe: 0\n",
      "Registro 2 : [4.9 3.  1.4 0.2] Classe: 0\n",
      "Registro 3 : [4.7 3.2 1.3 0.2] Classe: 0\n",
      "Registro 4 : [4.6 3.1 1.5 0.2] Classe: 0\n",
      "Registro 5 : [5.  3.6 1.4 0.2] Classe: 0\n"
     ]
    }
   ],
   "source": [
    "# Verificando  os 5 primeiros registros\n",
    "print(\"Primeiros 5 registros do conjunto de dados Iris:\")\n",
    "for i in range(5):\n",
    "    print(\"Registro\", i+1, \":\", X[i], \"Classe:\", y[i])"
   ]
  },
  {
   "cell_type": "code",
   "execution_count": 14,
   "id": "56a7fecc-e1e2-4a17-a2e0-357a918e2c4f",
   "metadata": {
    "tags": []
   },
   "outputs": [
    {
     "data": {
      "text/plain": [
       "DeltaGenerator(_root_container=1, _parent=DeltaGenerator())"
      ]
     },
     "execution_count": 14,
     "metadata": {},
     "output_type": "execute_result"
    }
   ],
   "source": [
    "#Criando o titúlo da aplicação\n",
    "st.header(\"Iris Prediction com Classificador Rando Forest\")\n",
    "#Criando o sibe bar para adicionar os itens do menu\n",
    "st.sidebar.header(\"Parametros\")"
   ]
  }
 ],
 "metadata": {
  "kernelspec": {
   "display_name": "Python 3 (ipykernel)",
   "language": "python",
   "name": "python3"
  },
  "language_info": {
   "codemirror_mode": {
    "name": "ipython",
    "version": 3
   },
   "file_extension": ".py",
   "mimetype": "text/x-python",
   "name": "python",
   "nbconvert_exporter": "python",
   "pygments_lexer": "ipython3",
   "version": "3.10.12"
  }
 },
 "nbformat": 4,
 "nbformat_minor": 5
}
